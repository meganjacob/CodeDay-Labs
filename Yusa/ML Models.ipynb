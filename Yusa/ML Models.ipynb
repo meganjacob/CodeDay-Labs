{
 "cells": [
  {
   "cell_type": "code",
   "execution_count": 1,
   "id": "ddda3312",
   "metadata": {},
   "outputs": [],
   "source": [
    "import pandas as pd\n",
    "import numpy as np"
   ]
  },
  {
   "cell_type": "code",
   "execution_count": 2,
   "id": "7d148a74",
   "metadata": {},
   "outputs": [],
   "source": [
    "# load the data\n",
    "df = pd.read_csv(\"../parkinsons.data\")\n",
    "df.set_index(\"name\", inplace=True)"
   ]
  },
  {
   "cell_type": "code",
   "execution_count": 3,
   "id": "0c222cff",
   "metadata": {},
   "outputs": [],
   "source": [
    "# features and target\n",
    "X = df.loc[:, [\"MDVP:Fo(Hz)\", \"RPDE\",\n",
    "               \"PPE\", \"spread2\", \"DFA\"]].values\n",
    "y = df[\"status\"]"
   ]
  },
  {
   "cell_type": "code",
   "execution_count": 4,
   "id": "9fef3188",
   "metadata": {},
   "outputs": [],
   "source": [
    "from sklearn.svm import SVC\n",
    "from sklearn.model_selection import GridSearchCV, train_test_split\n",
    "from sklearn.preprocessing import StandardScaler\n",
    "from sklearn.pipeline import Pipeline"
   ]
  },
  {
   "cell_type": "code",
   "execution_count": 5,
   "id": "1ab8efd6-4d03-41f4-967c-fc616074cf4f",
   "metadata": {},
   "outputs": [],
   "source": [
    "scaler = StandardScaler()\n",
    "scaler.fit(X)\n",
    "X = scaler.fit_transform(X)"
   ]
  },
  {
   "cell_type": "code",
   "execution_count": 11,
   "id": "b402a719",
   "metadata": {},
   "outputs": [],
   "source": [
    "# parameters for SVC\n",
    "param_grid_svc = {\"model__kernel\": [\"rbf\", \"linear\", \"poly\", \"sigmoid\"],\n",
    "              \"model__C\": [0.1, 1, 10, 100],\n",
    "              \"model__gamma\": [0.001, 0.01, 0.1, 1, 10, \"auto\", \"scale\"],\n",
    "              \"model__decision_function_shape\": [\"ovr\", \"ovo\"]}"
   ]
  },
  {
   "cell_type": "code",
   "execution_count": 12,
   "id": "cb337593",
   "metadata": {},
   "outputs": [],
   "source": [
    "# SVC pipeline\n",
    "svm_pipe = Pipeline([(\"model\", SVC())])"
   ]
  },
  {
   "cell_type": "code",
   "execution_count": 13,
   "id": "5f7077fc",
   "metadata": {},
   "outputs": [
    {
     "data": {
      "text/plain": [
       "GridSearchCV(cv=5, estimator=Pipeline(steps=[('model', SVC())]),\n",
       "             param_grid={'model__C': [0.1, 1, 10, 100],\n",
       "                         'model__decision_function_shape': ['ovr', 'ovo'],\n",
       "                         'model__gamma': [0.001, 0.01, 0.1, 1, 10, 'auto',\n",
       "                                          'scale'],\n",
       "                         'model__kernel': ['rbf', 'linear', 'poly', 'sigmoid']})"
      ]
     },
     "execution_count": 13,
     "metadata": {},
     "output_type": "execute_result"
    }
   ],
   "source": [
    "# Grid search best params\n",
    "search_svc = GridSearchCV(estimator=svm_pipe, cv=5, param_grid=param_grid_svc)\n",
    "search_svc.fit(X, y)"
   ]
  },
  {
   "cell_type": "code",
   "execution_count": 14,
   "id": "e0517156-befd-4f54-b057-478fe22723cb",
   "metadata": {},
   "outputs": [
    {
     "name": "stdout",
     "output_type": "stream",
     "text": [
      "Best parameters: {'model__C': 1, 'model__decision_function_shape': 'ovr', 'model__gamma': 'auto', 'model__kernel': 'rbf'},\n",
      "Best score: 0.8512820512820513\n"
     ]
    }
   ],
   "source": [
    "print(f\"Best parameters: {search_svc.best_params_},\\nBest score: {search_svc.best_score_}\")"
   ]
  },
  {
   "cell_type": "code",
   "execution_count": 15,
   "id": "7ab1bd4c-3b28-4232-bd86-c42d4a812c92",
   "metadata": {},
   "outputs": [],
   "source": [
    "from sklearn.ensemble import RandomForestClassifier"
   ]
  },
  {
   "cell_type": "code",
   "execution_count": 16,
   "id": "c29a131a-5b5e-488a-9983-54c0f5ff49b0",
   "metadata": {},
   "outputs": [],
   "source": [
    "# parameters for RandomForestClassifier\n",
    "param_grid_ran = {\"model__n_estimators\": [int(x) for x in np.linspace(start=100, stop=500, num=5)],\n",
    "                  \"model__max_features\": (\"auto\", \"sqrt\"),\n",
    "                  \"model__max_depth\": (2, 4, 6),\n",
    "                  \"model__min_samples_split\": (1.0, 2, 4),\n",
    "                  \"model__min_samples_leaf\": (1, 2),\n",
    "                  \"model__bootstrap\": (True, False)}"
   ]
  },
  {
   "cell_type": "code",
   "execution_count": 17,
   "id": "7d680556-7a2e-4ba6-a543-ad708a29a1f1",
   "metadata": {},
   "outputs": [],
   "source": [
    "ran_pipe = Pipeline([(\"model\", RandomForestClassifier())])"
   ]
  },
  {
   "cell_type": "code",
   "execution_count": 18,
   "id": "c5f7a747-9f3d-4984-a82e-cf8f72459d51",
   "metadata": {},
   "outputs": [
    {
     "data": {
      "text/plain": [
       "GridSearchCV(cv=3,\n",
       "             estimator=Pipeline(steps=[('model', RandomForestClassifier())]),\n",
       "             param_grid={'model__bootstrap': (True, False),\n",
       "                         'model__max_depth': (2, 4, 6),\n",
       "                         'model__max_features': ('auto', 'sqrt'),\n",
       "                         'model__min_samples_leaf': (1, 2),\n",
       "                         'model__min_samples_split': (1.0, 2, 4),\n",
       "                         'model__n_estimators': [100, 200, 300, 400, 500]})"
      ]
     },
     "execution_count": 18,
     "metadata": {},
     "output_type": "execute_result"
    }
   ],
   "source": [
    "search_ran = GridSearchCV(estimator=ran_pipe, cv=3, param_grid=param_grid_ran)\n",
    "search_ran.fit(X, y)"
   ]
  },
  {
   "cell_type": "code",
   "execution_count": 19,
   "id": "e1b792a7-748f-4164-bf86-57d93c40d1e9",
   "metadata": {},
   "outputs": [
    {
     "name": "stdout",
     "output_type": "stream",
     "text": [
      "Best parameters: {'model__bootstrap': False, 'model__max_depth': 6, 'model__max_features': 'auto', 'model__min_samples_leaf': 1, 'model__min_samples_split': 2, 'model__n_estimators': 500},\n",
      "Best score: 0.8666666666666667\n"
     ]
    }
   ],
   "source": [
    "print(f\"Best parameters: {search_ran.best_params_},\\nBest score: {search_ran.best_score_}\")"
   ]
  },
  {
   "cell_type": "code",
   "execution_count": 20,
   "id": "bbaa723a-0b1d-4516-87b5-b93e5a45a2d1",
   "metadata": {},
   "outputs": [],
   "source": [
    "from sklearn.neighbors import KNeighborsClassifier"
   ]
  },
  {
   "cell_type": "code",
   "execution_count": 21,
   "id": "7e6f329a-5512-45df-b252-1fd6e03881e1",
   "metadata": {},
   "outputs": [],
   "source": [
    "param_grid_kn = {\"model__n_neighbors\": (3, 4, 5, 6),\n",
    "                 \"model__weights\": (\"uniform\", \"distance\"),\n",
    "                 \"model__metric\": (\"euclidean\", \"minkowski\")}"
   ]
  },
  {
   "cell_type": "code",
   "execution_count": 22,
   "id": "e80427ba-abe1-44ca-a4a4-ec5f9ae54856",
   "metadata": {},
   "outputs": [
    {
     "data": {
      "text/plain": [
       "{'memory': None,\n",
       " 'steps': [('model', KNeighborsClassifier())],\n",
       " 'verbose': False,\n",
       " 'model': KNeighborsClassifier(),\n",
       " 'model__algorithm': 'auto',\n",
       " 'model__leaf_size': 30,\n",
       " 'model__metric': 'minkowski',\n",
       " 'model__metric_params': None,\n",
       " 'model__n_jobs': None,\n",
       " 'model__n_neighbors': 5,\n",
       " 'model__p': 2,\n",
       " 'model__weights': 'uniform'}"
      ]
     },
     "execution_count": 22,
     "metadata": {},
     "output_type": "execute_result"
    }
   ],
   "source": [
    "kn_pipe = Pipeline([(\"model\", KNeighborsClassifier())])\n",
    "kn_pipe.get_params()"
   ]
  },
  {
   "cell_type": "code",
   "execution_count": 23,
   "id": "696b06ce-5d61-4053-8123-d821a3aa6434",
   "metadata": {},
   "outputs": [
    {
     "data": {
      "text/plain": [
       "GridSearchCV(cv=5,\n",
       "             estimator=Pipeline(steps=[('model', KNeighborsClassifier())]),\n",
       "             param_grid={'model__metric': ('euclidean', 'minkowski'),\n",
       "                         'model__n_neighbors': (3, 4, 5, 6),\n",
       "                         'model__weights': ('uniform', 'distance')})"
      ]
     },
     "execution_count": 23,
     "metadata": {},
     "output_type": "execute_result"
    }
   ],
   "source": [
    "search_kn = GridSearchCV(estimator=kn_pipe, cv=5, param_grid=param_grid_kn)\n",
    "search_kn.fit(X, y)"
   ]
  },
  {
   "cell_type": "code",
   "execution_count": 24,
   "id": "aa845b4c-3948-4d0a-b2c0-8c125e31014b",
   "metadata": {},
   "outputs": [
    {
     "name": "stdout",
     "output_type": "stream",
     "text": [
      "Best parameters: {'model__metric': 'euclidean', 'model__n_neighbors': 3, 'model__weights': 'distance'},\n",
      "Best score: 0.8461538461538461\n"
     ]
    }
   ],
   "source": [
    "print(f\"Best parameters: {search_kn.best_params_},\\nBest score: {search_kn.best_score_}\")"
   ]
  },
  {
   "cell_type": "code",
   "execution_count": 25,
   "id": "d73f030b-4a98-491a-968e-756a4e96e97c",
   "metadata": {},
   "outputs": [],
   "source": [
    "from sklearn.tree import DecisionTreeClassifier"
   ]
  },
  {
   "cell_type": "code",
   "execution_count": 26,
   "id": "f8415ac5-cf04-4bc1-9c3c-4f09598c344c",
   "metadata": {},
   "outputs": [],
   "source": [
    "parameters = {'model__max_depth' : (10,30,50,70,90,100)\n",
    "             ,'model__criterion' : ('gini','entropy')\n",
    "             ,'model__max_depth' : (3,5,7,9,10)\n",
    "             ,'model__max_features' : ('auto','sqrt','log2')\n",
    "             ,'model__min_samples_split' : (2,4,6)}"
   ]
  },
  {
   "cell_type": "code",
   "execution_count": 27,
   "id": "7778c714-fe49-4ef5-835a-eeb57957abed",
   "metadata": {},
   "outputs": [],
   "source": [
    "dt_pipe = Pipeline([(\"model\", DecisionTreeClassifier())])"
   ]
  },
  {
   "cell_type": "code",
   "execution_count": 28,
   "id": "19917d13-68cc-4637-a832-91563f6105d3",
   "metadata": {},
   "outputs": [
    {
     "data": {
      "text/plain": [
       "GridSearchCV(cv=3,\n",
       "             estimator=Pipeline(steps=[('model', DecisionTreeClassifier())]),\n",
       "             param_grid={'model__criterion': ('gini', 'entropy'),\n",
       "                         'model__max_depth': (3, 5, 7, 9, 10),\n",
       "                         'model__max_features': ('auto', 'sqrt', 'log2'),\n",
       "                         'model__min_samples_split': (2, 4, 6)})"
      ]
     },
     "execution_count": 28,
     "metadata": {},
     "output_type": "execute_result"
    }
   ],
   "source": [
    "search_dt = GridSearchCV(estimator=dt_pipe, cv=3, param_grid = parameters)\n",
    "search_dt.fit(X, y)"
   ]
  },
  {
   "cell_type": "code",
   "execution_count": 29,
   "id": "781f583c-2f5e-4487-8527-5a6152d07c48",
   "metadata": {},
   "outputs": [
    {
     "name": "stdout",
     "output_type": "stream",
     "text": [
      "Best parameters: {'model__criterion': 'entropy', 'model__max_depth': 7, 'model__max_features': 'log2', 'model__min_samples_split': 6},\n",
      "Best score: 0.8871794871794871\n"
     ]
    }
   ],
   "source": [
    "print(f\"Best parameters: {search_dt.best_params_},\\nBest score: {search_dt.best_score_}\")"
   ]
  },
  {
   "cell_type": "code",
   "execution_count": 31,
   "id": "f3c90c9d-76bc-4484-a563-15f6f041ba4e",
   "metadata": {},
   "outputs": [],
   "source": [
    "from sklearn.ensemble import StackingClassifier"
   ]
  },
  {
   "cell_type": "code",
   "execution_count": 38,
   "id": "9451832e-0ae5-4650-957e-096fc3e31e5b",
   "metadata": {},
   "outputs": [],
   "source": [
    "clf1 = search_svc.best_estimator_\n",
    "clf2 = search_kn.best_estimator_\n",
    "clf3 = search_dt.best_estimator_\n",
    "estimators = [(\"svc\", clf1),(\"kn\", clf2), (\"dt\", clf3)]"
   ]
  },
  {
   "cell_type": "code",
   "execution_count": 39,
   "id": "1bcbfa81-eb94-4449-ba6b-e2c900f2fb20",
   "metadata": {},
   "outputs": [],
   "source": [
    "stack_model = StackingClassifier(estimators=estimators, final_estimator=clf1)"
   ]
  },
  {
   "cell_type": "code",
   "execution_count": 40,
   "id": "4cfbef95-27ca-4447-816c-bb181513410c",
   "metadata": {},
   "outputs": [
    {
     "data": {
      "text/plain": [
       "StackingClassifier(estimators=[('svc',\n",
       "                                Pipeline(steps=[('model',\n",
       "                                                 SVC(C=1, gamma='auto'))])),\n",
       "                               ('kn',\n",
       "                                Pipeline(steps=[('model',\n",
       "                                                 KNeighborsClassifier(metric='euclidean',\n",
       "                                                                      n_neighbors=3,\n",
       "                                                                      weights='distance'))])),\n",
       "                               ('dt',\n",
       "                                Pipeline(steps=[('model',\n",
       "                                                 DecisionTreeClassifier(criterion='entropy',\n",
       "                                                                        max_depth=7,\n",
       "                                                                        max_features='log2',\n",
       "                                                                        min_samples_split=6))]))],\n",
       "                   final_estimator=Pipeline(steps=[('model',\n",
       "                                                    SVC(C=1, gamma='auto'))]))"
      ]
     },
     "execution_count": 40,
     "metadata": {},
     "output_type": "execute_result"
    }
   ],
   "source": [
    "stack_model.fit(X, y)"
   ]
  },
  {
   "cell_type": "code",
   "execution_count": 46,
   "id": "28efd2aa-c7a7-4f00-a6f9-52ff4feaa0ad",
   "metadata": {},
   "outputs": [],
   "source": [
    "from sklearn.ensemble import VotingClassifier"
   ]
  },
  {
   "cell_type": "code",
   "execution_count": 47,
   "id": "a8e0dcd3-7c58-45c9-8881-0b595c425604",
   "metadata": {},
   "outputs": [],
   "source": [
    "clf1 = search_svc.best_estimator_\n",
    "clf2 = search_kn.best_estimator_\n",
    "clf3 = search_dt.best_estimator_\n",
    "estimators = [(\"svc\", clf1),(\"kn\", clf2), (\"dt\", clf3)]"
   ]
  },
  {
   "cell_type": "code",
   "execution_count": 48,
   "id": "bc994c2e-9bc5-40a6-95e8-8cc4a486733f",
   "metadata": {},
   "outputs": [],
   "source": [
    "vot_model = VotingClassifier(estimators=estimators, voting=\"soft\")"
   ]
  },
  {
   "cell_type": "code",
   "execution_count": 49,
   "id": "e619c712-0eaa-4da6-be58-b2af80828e54",
   "metadata": {},
   "outputs": [
    {
     "data": {
      "text/plain": [
       "VotingClassifier(estimators=[('svc',\n",
       "                              Pipeline(steps=[('model',\n",
       "                                               SVC(C=1, gamma='auto'))])),\n",
       "                             ('kn',\n",
       "                              Pipeline(steps=[('model',\n",
       "                                               KNeighborsClassifier(metric='euclidean',\n",
       "                                                                    n_neighbors=3,\n",
       "                                                                    weights='distance'))])),\n",
       "                             ('dt',\n",
       "                              Pipeline(steps=[('model',\n",
       "                                               DecisionTreeClassifier(criterion='entropy',\n",
       "                                                                      max_depth=7,\n",
       "                                                                      max_features='log2',\n",
       "                                                                      min_samples_split=6))]))],\n",
       "                 voting='soft')"
      ]
     },
     "execution_count": 49,
     "metadata": {},
     "output_type": "execute_result"
    }
   ],
   "source": [
    "vot_model.fit(X, y)"
   ]
  }
 ],
 "metadata": {
  "kernelspec": {
   "display_name": "Python 3",
   "language": "python",
   "name": "python3"
  },
  "language_info": {
   "codemirror_mode": {
    "name": "ipython",
    "version": 3
   },
   "file_extension": ".py",
   "mimetype": "text/x-python",
   "name": "python",
   "nbconvert_exporter": "python",
   "pygments_lexer": "ipython3",
   "version": "3.8.8"
  }
 },
 "nbformat": 4,
 "nbformat_minor": 5
}
