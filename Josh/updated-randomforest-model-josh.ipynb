{
 "cells": [
  {
   "cell_type": "code",
   "execution_count": 13,
   "id": "535aaed0",
   "metadata": {},
   "outputs": [],
   "source": [
    "import pandas as pd\n",
    "from sklearn.ensemble import RandomForestClassifier\n",
    "from sklearn.model_selection import cross_val_score\n",
    "from sklearn.model_selection import RepeatedStratifiedKFold\n",
    "from sklearn.model_selection import RandomizedSearchCV\n",
    "from sklearn.ensemble import RandomForestRegressor\n",
    "import numpy as np"
   ]
  },
  {
   "cell_type": "code",
   "execution_count": 43,
   "id": "c9d8e6f9",
   "metadata": {},
   "outputs": [
    {
     "name": "stdout",
     "output_type": "stream",
     "text": [
      "Accuracy: 0.875 (0.080)\n"
     ]
    }
   ],
   "source": [
    "# Establishes dataframe without name column.\n",
    "df_raw = pd.read_csv(\"parkinsons.data\")\n",
    "df_raw.pop(\"name\")\n",
    "\n",
    "# Defines input and output data.\n",
    "y = df_raw.iloc[:,16]\n",
    "X = df_raw.iloc[:,:16]\n",
    "\n",
    "# Creates random forest model from base data.\n",
    "model = RandomForestClassifier()\n",
    "cv = RepeatedStratifiedKFold(n_splits = 10, n_repeats = 3, random_state = 1)\n",
    "\n",
    "# Prints accuracy score from cross evaluation.\n",
    "n_scores = cross_val_score(model, X, y, scoring = \"accuracy\", cv = cv, n_jobs = -1, error_score = \"raise\")\n",
    "print(\"Accuracy: %.3f (%.3f)\" % (np.mean(n_scores), np.std(n_scores)))"
   ]
  },
  {
   "cell_type": "code",
   "execution_count": 44,
   "id": "aebf5009",
   "metadata": {},
   "outputs": [
    {
     "name": "stdout",
     "output_type": "stream",
     "text": [
      "Fitting 3 folds for each of 100 candidates, totalling 300 fits\n"
     ]
    },
    {
     "data": {
      "text/plain": [
       "{'n_estimators': 600,\n",
       " 'min_samples_split': 10,\n",
       " 'min_samples_leaf': 4,\n",
       " 'max_features': 'sqrt',\n",
       " 'max_depth': 110,\n",
       " 'bootstrap': True}"
      ]
     },
     "execution_count": 44,
     "metadata": {},
     "output_type": "execute_result"
    }
   ],
   "source": [
    "# Defines dictionary of all possible hyperparameters.\n",
    "max_depth = [int(x) for x in np.linspace(10, 110, num = 11)]\n",
    "max_depth.append(None)\n",
    "random_grid = {\"n_estimators\": [int(x) for x in np.linspace(start = 200, stop = 2000, num = 10)],\n",
    "               \"max_features\": [\"auto\", \"sqrt\"],\n",
    "               \"max_depth\": max_depth,\n",
    "               \"min_samples_split\": [2, 5, 10],\n",
    "               \"min_samples_leaf\": [1, 2, 4],\n",
    "               \"bootstrap\": [True, False]}\n",
    "\n",
    "# Creates random forest model from dictionary.\n",
    "rf = RandomForestRegressor()\n",
    "rf_random = RandomizedSearchCV(estimator = rf, \n",
    "                               param_distributions = random_grid, \n",
    "                               n_iter = 100, \n",
    "                               cv = 3, \n",
    "                               verbose = 2, \n",
    "                               n_jobs = -1)\n",
    "\n",
    "# Prints the best possible settings for the data.\n",
    "rf_random.fit(X, y)\n",
    "rf_random.best_params_"
   ]
  },
  {
   "cell_type": "code",
   "execution_count": 53,
   "id": "1f9d28a2",
   "metadata": {},
   "outputs": [
    {
     "name": "stdout",
     "output_type": "stream",
     "text": [
      "Accuracy: 0.877 (0.077)\n"
     ]
    }
   ],
   "source": [
    "# Creates random forest model from base data.\n",
    "model = RandomForestClassifier(n_estimators = 600,\n",
    "                              min_samples_split = 10,\n",
    "                              min_samples_leaf = 4,\n",
    "                              max_features = \"sqrt\",\n",
    "                              max_depth = 110,\n",
    "                              bootstrap = True)\n",
    "cv = RepeatedStratifiedKFold(n_splits = 10, n_repeats = 3, random_state = 1)\n",
    "\n",
    "# Prints accuracy score from cross evaluation.\n",
    "n_scores = cross_val_score(model, X, y, scoring = \"accuracy\", cv = cv, n_jobs = -1, error_score = \"raise\")\n",
    "print(\"Accuracy: %.3f (%.3f)\" % (np.mean(n_scores), np.std(n_scores)))"
   ]
  },
  {
   "cell_type": "code",
   "execution_count": null,
   "id": "6176dc37",
   "metadata": {},
   "outputs": [],
   "source": []
  }
 ],
 "metadata": {
  "kernelspec": {
   "display_name": "Python 3",
   "language": "python",
   "name": "python3"
  },
  "language_info": {
   "codemirror_mode": {
    "name": "ipython",
    "version": 3
   },
   "file_extension": ".py",
   "mimetype": "text/x-python",
   "name": "python",
   "nbconvert_exporter": "python",
   "pygments_lexer": "ipython3",
   "version": "3.8.8"
  }
 },
 "nbformat": 4,
 "nbformat_minor": 5
}
