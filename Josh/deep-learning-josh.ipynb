{
 "cells": [
  {
   "cell_type": "code",
   "execution_count": 20,
   "id": "8d65c673",
   "metadata": {},
   "outputs": [],
   "source": [
    "import pandas as pd\n",
    "\n",
    "from tensorflow.keras.models import Sequential\n",
    "from tensorflow.keras.layers import Dense\n",
    "from tensorflow.keras.wrappers.scikit_learn import KerasClassifier\n",
    "from sklearn.model_selection import cross_val_score\n",
    "from sklearn.preprocessing import LabelEncoder\n",
    "from sklearn.model_selection import StratifiedKFold\n",
    "from sklearn.preprocessing import StandardScaler\n",
    "from sklearn.pipeline import Pipeline"
   ]
  },
  {
   "cell_type": "code",
   "execution_count": 21,
   "id": "ee313343",
   "metadata": {},
   "outputs": [],
   "source": [
    "df_raw = pd.read_csv(\"parkinsons.data\")\n",
    "df_raw.pop(\"name\")\n",
    "df_val = df_raw.values\n",
    "\n",
    "X = df_raw.iloc[:,:16]\n",
    "y = df_raw.iloc[:,16]"
   ]
  },
  {
   "cell_type": "code",
   "execution_count": 45,
   "id": "1b8f2197",
   "metadata": {},
   "outputs": [],
   "source": [
    "def create_model():\n",
    "    model = Sequential()\n",
    "    model.add(Dense(600, input_dim=60, activation='relu'))\n",
    "    model.add(Dense(1, activation=\"sigmoid\"))\n",
    "    \n",
    "    model.compile(loss = \"binary_crossentropy\", optimizer = \"adam\", metrics = [\"accuracy\"])\n",
    "    return model"
   ]
  },
  {
   "cell_type": "code",
   "execution_count": 46,
   "id": "5423b1f1",
   "metadata": {},
   "outputs": [
    {
     "name": "stdout",
     "output_type": "stream",
     "text": [
      "Standardized: 81.55% (6.06%)\n"
     ]
    }
   ],
   "source": [
    "estimates = []\n",
    "estimates.append((\"standardize\", StandardScaler()))\n",
    "estimates.append((\"mlp\", KerasClassifier(build_fn = create_model, epochs = 100, batch_size = 5, verbose = 0)))\n",
    "\n",
    "pipe = Pipeline(estimates)\n",
    "k_fold = StratifiedKFold(n_splits = 10, shuffle = True)\n",
    "results = cross_val_score(estimate, X, y, cv = k_fold)\n",
    "\n",
    "print(\"Standardized: %.2f%% (%.2f%%)\" % (results.mean()*100, results.std()*100))"
   ]
  },
  {
   "cell_type": "code",
   "execution_count": null,
   "id": "7df52626",
   "metadata": {},
   "outputs": [],
   "source": []
  }
 ],
 "metadata": {
  "kernelspec": {
   "display_name": "Python 3",
   "language": "python",
   "name": "python3"
  },
  "language_info": {
   "codemirror_mode": {
    "name": "ipython",
    "version": 3
   },
   "file_extension": ".py",
   "mimetype": "text/x-python",
   "name": "python",
   "nbconvert_exporter": "python",
   "pygments_lexer": "ipython3",
   "version": "3.8.8"
  }
 },
 "nbformat": 4,
 "nbformat_minor": 5
}
